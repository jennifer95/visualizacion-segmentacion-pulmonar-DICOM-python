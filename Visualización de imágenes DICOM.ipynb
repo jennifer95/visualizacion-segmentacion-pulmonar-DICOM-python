{
  "nbformat": 4,
  "nbformat_minor": 5,
  "metadata": {
    "kernelspec": {
      "display_name": "Python 3",
      "language": "python",
      "name": "python3"
    },
    "language_info": {
      "codemirror_mode": {
        "name": "ipython",
        "version": 3
      },
      "file_extension": ".py",
      "mimetype": "text/x-python",
      "name": "python",
      "nbconvert_exporter": "python",
      "pygments_lexer": "ipython3",
      "version": "3.8.8"
    },
    "colab": {
      "name": "Visualización de imágenes DICOM.ipynb",
      "provenance": [],
      "collapsed_sections": []
    }
  },
  "cells": [
    {
      "cell_type": "markdown",
      "metadata": {
        "id": "e7fb80bd"
      },
      "source": [
        "<a id=\"top\"></a>\n",
        "# Visualización de imágenes DICOM"
      ],
      "id": "e7fb80bd"
    },
    {
      "cell_type": "markdown",
      "metadata": {
        "id": "52cd9166"
      },
      "source": [
        "***\n",
        "El presente notebook contiene una explicación detallada para el proceso de visualización de imágenes de CT en diferentes planos anatómicos (axial, sagital y coronal) a partir de archivos DICOM.\n",
        "\n",
        "## Objetivos\n",
        "\n",
        "```\n",
        "- Abrir archivos en formato DICOM mediante bibliotecas de Python.\n",
        "- Extraer la información necesaria para la reconstrucción de imágenes de TC de archivos DICOM.\n",
        "- Visualizar una imagen de TC.\n",
        "- Obtención de la matriz en 3D que contengan toda la infomación para la reconstrucción de un examen de TC.\n",
        "- Visualizar imágenes de TC en los planos axial, sagital y coronal.\n",
        "```"
      ],
      "id": "52cd9166"
    },
    {
      "cell_type": "markdown",
      "metadata": {
        "id": "454283f7"
      },
      "source": [
        "## Introducción\n",
        "\n",
        "El notebook se dividirá en 2 fases, la primera fase tiene como objetivo leer un archivo DICOM  y generar una imagen de CT a partir de la matriz de píxeles y de otros atributos extaídos de los archivos, la segunda fase logra integrar el proceso para visualizar una imagen en funciones e implemetarlo para todas las imágenes de un mismo examen con el fin de generar una matriz en 3D que permite la visualización de la anatomía de un paciente en diferentes planos anatómicos. \n",
        ">**Nota**: Las funciones que se diseñaron para automatizar ciertos procesos y para que el presente notebook sea más interactivo y fácil de entender, fueron guardadas en el archivo imprimir_imagen.py y son importadas al notebook como **`imp`**."
      ],
      "id": "454283f7"
    },
    {
      "cell_type": "markdown",
      "metadata": {
        "id": "e0beb9d2"
      },
      "source": [
        "A continuación se presenta el flujo de trabajo para la visualización de una imagen y de un examen de TC en diferentes planos anatómicos, este flujo de trabajo muestra la estructura que tiene el presente notebook.\n",
        "\n",
        "<img src=\"imagenes/Flujo1.png\">"
      ],
      "id": "e0beb9d2"
    },
    {
      "cell_type": "markdown",
      "metadata": {
        "id": "25e0a65f"
      },
      "source": [
        "## Librerías y módulos\n",
        "\n",
        "\n",
        "Las bibliotecas que son necesarias para este proyecto son las siguientes:\n",
        "\n",
        "\n",
        "- *pydicom* para leer los atributos de archivos DICOM.\n",
        "- *numpy* para la manipulación de las matrices.\n",
        "- *matplotlib* para gráficar datos.\n",
        "- *PIL* para manipular imágenes.\n",
        "- *imprimir_imagen* para manipular imágenes de CT de archivos DICOM."
      ],
      "id": "25e0a65f"
    },
    {
      "cell_type": "code",
      "metadata": {
        "id": "31c39116"
      },
      "source": [
        "import pydicom\n",
        "import numpy as np\n",
        "import matplotlib.pylab as plt\n",
        "import PIL\n",
        "import imprimir_imagen as imp\n"
      ],
      "id": "31c39116",
      "execution_count": null,
      "outputs": []
    },
    {
      "cell_type": "markdown",
      "metadata": {
        "id": "a620f686"
      },
      "source": [
        "## Visualización de una imagen de TC\n",
        "\n",
        "Para la visualización de una imagen de TC se seguirá  el flujo de trabajo que se encuentra en la imagen anterior. Primero se procede  a cargar la imagen y a su posterior lectura, luego se obtiene  la matriz de píxeles de los archivos DICOM, posteriormente se realizarán las debidas transformaciones y correcciones a la matriz de píxeles y finalmente se realizará la visualización.\n",
        "\n",
        "\n",
        "### Lectura de la imagen de archivos DICOM\n",
        "\n",
        "En esta sección se lee un archivo DICOM con la biblioteca *pydicom* como un objeto de la clase `pydicom.dataset.FileDataset` que permite extraer la información para la reconstrucción de la imagen de los archivos de una manera fácil. Además se imprimen algunos atributos necesarios para la reconstrucción de la imagen y la clase a la cual pertenecen, la impresión de los datos se lo realizó con fines demostrativos."
      ],
      "id": "a620f686"
    },
    {
      "cell_type": "code",
      "metadata": {
        "id": "7966f772",
        "outputId": "08558f19-3110-418b-a1b2-c4021e7c405f"
      },
      "source": [
        "ruta_imagen = 'datos-torax-A/paciente3-A/00000036-A' # ruta donde se encuentra la imagen\n",
        "archivo_dicom = pydicom.dcmread(ruta_imagen) # se lee el archivo DICOM con pydicom\n",
        "print('------------------------------------------------------------------------------------------------------')\n",
        "print('VALORES QUE DEFINEN LA MATRIZ DE PIXELES DE UN ARCHIVO DICOM')\n",
        "print('El archivo DICOM es leído por pydicom como un objeto de la clase', type(archivo_dicom))\n",
        "matriz_pixeles = archivo_dicom.pixel_array # se lee la matriz de píxeles\n",
        "print('La matriz de pixeles es un dato de la clase', type(matriz_pixeles), 'con ',\n",
        "       archivo_dicom.Rows, 'filas', 'y ', archivo_dicom.Columns, 'columnas.')\n",
        "print('El valor de Samples Per Pixel es de',archivo_dicom.SamplesPerPixel, \n",
        "      ' que corresponde a una imagen en escala de grises.' )\n"
      ],
      "id": "7966f772",
      "execution_count": null,
      "outputs": [
        {
          "name": "stdout",
          "output_type": "stream",
          "text": [
            "------------------------------------------------------------------------------------------------------\n",
            "VALORES QUE DEFINEN LA MATRIZ DE PIXELES DE UN ARCHIVO DICOM\n",
            "El archivo DICOM es leído por pydicom como un objeto de la clase <class 'pydicom.dataset.FileDataset'>\n",
            "La matriz de pixeles es un dato de la clase <class 'numpy.ndarray'> con  512 filas y  512 columnas.\n",
            "El valor de Samples Per Pixel es de 1  que corresponde a una imagen en escala de grises.\n"
          ]
        }
      ]
    },
    {
      "cell_type": "markdown",
      "metadata": {
        "id": "ca86b8fc"
      },
      "source": [
        "### Obtención de Unidades Hounsfield\n",
        "Se transforma la matriz de píxeles a unidades Hounsfield, mediante la ecuación que se muestra a continuación, puede encontrar mayor información en la página web de <a href=\"http://dicom.nema.org/medical/dicom/current/output/chtml/part03/sect_C.8.15.3.10.html\">Nema</a>.\n",
        "$$HU = m × SV + b $$\n",
        "Donde:\n",
        "\n",
        "- **$HU$**: Matriz de píxeles en unidades Hounsfield, las unidades son dadas por el atributo (0028,1054).\n",
        "\n",
        "- $b$: Es el intercepto de la ecuación (0028,1052).\n",
        "\n",
        "- $m$: La pendiendte de la ecuación (0028,1053).\n",
        "\n",
        "- $SV$: Matriz de Píxeles (0028,9145)."
      ],
      "id": "ca86b8fc"
    },
    {
      "cell_type": "code",
      "metadata": {
        "id": "651b618d",
        "outputId": "efd077fa-24aa-4345-cf65-143c28d45fd7"
      },
      "source": [
        "print('------------------------------------------------------------------------------------------------------')\n",
        "print('VALORES QUE DEFINEN EL CAMBIO DE UNIDADES DE LA MATRIZ DE PIXELES')\n",
        "print('-Rescale Intercept (0028,1052): ', archivo_dicom.RescaleIntercept)\n",
        "print('-Tipo de dato de  Rescale Intercept: ', type(archivo_dicom.RescaleIntercept))\n",
        "print('-Rescale Slope (0028,1053): ', archivo_dicom.RescaleSlope)\n",
        "print('-Tipo de dato de  RescaleSlope: ', type(archivo_dicom.RescaleSlope))\n",
        "print('-Rescale Type (0028,1054): ', archivo_dicom.RescaleType)"
      ],
      "id": "651b618d",
      "execution_count": null,
      "outputs": [
        {
          "name": "stdout",
          "output_type": "stream",
          "text": [
            "------------------------------------------------------------------------------------------------------\n",
            "VALORES QUE DEFINEN EL CAMBIO DE UNIDADES DE LA MATRIZ DE PIXELES\n",
            "-Rescale Intercept (0028,1052):  -1024\n",
            "-Tipo de dato de  Rescale Intercept:  <class 'pydicom.valuerep.DSfloat'>\n",
            "-Rescale Slope (0028,1053):  1\n",
            "-Tipo de dato de  RescaleSlope:  <class 'pydicom.valuerep.DSfloat'>\n",
            "-Rescale Type (0028,1054):  HU\n"
          ]
        }
      ]
    },
    {
      "cell_type": "code",
      "metadata": {
        "id": "62b6b734",
        "outputId": "072eb86b-6608-4fc2-acca-77d747550dda"
      },
      "source": [
        "ruta_salida = 'imagenes/' # ruta donde se guardará la imagen\n",
        "intercept = archivo_dicom.RescaleIntercept \n",
        "slope = archivo_dicom.RescaleSlope\n",
        "if slope != 1:\n",
        "    matriz_pixeles = slope * matriz_pixeles\n",
        "matriz_pixeles += np.int16(intercept)\n",
        "\n",
        "plt.imshow(matriz_pixeles, cmap=plt.cm.gray)\n",
        "plt.savefig(ruta_salida +'CT_HU.png',bbox_inches='tight', pad_inches = 0)\n",
        "plt.title('Imagen de CT de tórax')\n",
        "plt.show()"
      ],
      "id": "62b6b734",
      "execution_count": null,
      "outputs": [
        {
          "ename": "ValueError",
          "evalue": "output array is read-only",
          "output_type": "error",
          "traceback": [
            "\u001b[0;31m---------------------------------------------------------------------------\u001b[0m",
            "\u001b[0;31mValueError\u001b[0m                                Traceback (most recent call last)",
            "\u001b[0;32m<ipython-input-4-27354bd3b915>\u001b[0m in \u001b[0;36m<module>\u001b[0;34m\u001b[0m\n\u001b[1;32m      4\u001b[0m \u001b[0;32mif\u001b[0m \u001b[0mslope\u001b[0m \u001b[0;34m!=\u001b[0m \u001b[0;36m1\u001b[0m\u001b[0;34m:\u001b[0m\u001b[0;34m\u001b[0m\u001b[0;34m\u001b[0m\u001b[0m\n\u001b[1;32m      5\u001b[0m     \u001b[0mmatriz_pixeles\u001b[0m \u001b[0;34m=\u001b[0m \u001b[0mslope\u001b[0m \u001b[0;34m*\u001b[0m \u001b[0mmatriz_pixeles\u001b[0m\u001b[0;34m\u001b[0m\u001b[0;34m\u001b[0m\u001b[0m\n\u001b[0;32m----> 6\u001b[0;31m \u001b[0mmatriz_pixeles\u001b[0m \u001b[0;34m+=\u001b[0m \u001b[0mnp\u001b[0m\u001b[0;34m.\u001b[0m\u001b[0mint16\u001b[0m\u001b[0;34m(\u001b[0m\u001b[0mintercept\u001b[0m\u001b[0;34m)\u001b[0m\u001b[0;34m\u001b[0m\u001b[0;34m\u001b[0m\u001b[0m\n\u001b[0m\u001b[1;32m      7\u001b[0m \u001b[0;34m\u001b[0m\u001b[0m\n\u001b[1;32m      8\u001b[0m \u001b[0mplt\u001b[0m\u001b[0;34m.\u001b[0m\u001b[0mimshow\u001b[0m\u001b[0;34m(\u001b[0m\u001b[0mmatriz_pixeles\u001b[0m\u001b[0;34m,\u001b[0m \u001b[0mcmap\u001b[0m\u001b[0;34m=\u001b[0m\u001b[0mplt\u001b[0m\u001b[0;34m.\u001b[0m\u001b[0mcm\u001b[0m\u001b[0;34m.\u001b[0m\u001b[0mgray\u001b[0m\u001b[0;34m)\u001b[0m\u001b[0;34m\u001b[0m\u001b[0;34m\u001b[0m\u001b[0m\n",
            "\u001b[0;31mValueError\u001b[0m: output array is read-only"
          ]
        }
      ]
    },
    {
      "cell_type": "markdown",
      "metadata": {
        "id": "ccb960db"
      },
      "source": [
        "### Corrección de píxeles\n",
        "\n",
        "La gráfica anterior muestra un círculo con un tono mucho más oscuro, esto es debido a que esta zona se encuentra fuera del rango del tomógrafo y este lo llenó con valores arbitrarios. Para saber a qué valores corresponde se puede observar su histograma."
      ],
      "id": "ccb960db"
    },
    {
      "cell_type": "code",
      "metadata": {
        "id": "ab66a912"
      },
      "source": [
        "pixeles = np.concatenate((matriz_pixeles), axis=0)\n",
        "plt.hist(pixeles, bins= 100)\n",
        "plt.ylabel('Número de Píxeles')\n",
        "plt.xlabel('Unidades Hounsfield')\n",
        "plt.title('Histograma de Unidades Hounsfield')\n",
        "plt.savefig(ruta_salida +'hist_HU.png',bbox_inches='tight')\n",
        "plt.show()"
      ],
      "id": "ab66a912",
      "execution_count": null,
      "outputs": []
    },
    {
      "cell_type": "markdown",
      "metadata": {
        "id": "a36e56da"
      },
      "source": [
        "El tomógrafo proporciona valores entre $-2000HU$ y $4000HU$, por lo que el valor cercano a $3000HU$ es el que corresponde al valor arbitrario, se puede imprimir este valor y saber a qué elemento corresponde exactamente."
      ],
      "id": "a36e56da"
    },
    {
      "cell_type": "code",
      "metadata": {
        "id": "80799699"
      },
      "source": [
        "print('El valor arbitrario puesto por el tomógrafo es: ', min(pixeles), 'HU')"
      ],
      "id": "80799699",
      "execution_count": null,
      "outputs": []
    },
    {
      "cell_type": "markdown",
      "metadata": {
        "id": "424245f7"
      },
      "source": [
        "Para corregir la imagen se procede a eliminar este valor arbitrario y reemplazarlo por el correspondiente al aire que es de $-1024HU$. A continuación se presenta la imagen generada por matplotlib para los datos obtenidos."
      ],
      "id": "424245f7"
    },
    {
      "cell_type": "code",
      "metadata": {
        "id": "8a57e448"
      },
      "source": [
        "matriz_pixeles[matriz_pixeles == -3024] = -1024\n",
        "plt.imshow(matriz_pixeles, cmap=plt.cm.gray)\n",
        "plt.axis('off')\n",
        "plt.savefig(ruta_salida +'CT_C1.png',bbox_inches='tight', pad_inches = 0)\n",
        "plt.title('Visualización de una imagen de CT')\n",
        "plt.show()"
      ],
      "id": "8a57e448",
      "execution_count": null,
      "outputs": []
    },
    {
      "cell_type": "code",
      "metadata": {
        "id": "ba05c9db"
      },
      "source": [
        "print(f\"Los rangos de Unidades Hounsfield de la imagen son: [{np.min(matriz_pixeles)}HU,{np.max(matriz_pixeles)}HU]\")\n",
        "print(f\"La escala se extiende en: {abs(np.max(matriz_pixeles)-np.min(matriz_pixeles))} HU.\")"
      ],
      "id": "ba05c9db",
      "execution_count": null,
      "outputs": []
    },
    {
      "cell_type": "markdown",
      "metadata": {
        "id": "42fcd76f"
      },
      "source": [
        "### Corte de mesa en las imágenes\n",
        "Por motivos de visualización y para el posterior procesamiento de las imágenes es necesario eliminar cualquier elemento que no pertenezca a estructuras anatómicas, tal es el caso de la camilla. \n",
        "Para eso se visualizarán todas las imagenes del examen."
      ],
      "id": "42fcd76f"
    },
    {
      "cell_type": "code",
      "metadata": {
        "id": "e53b7cd5"
      },
      "source": [
        "ruta_examen ='datos-torax-A/paciente6-A'\n",
        "def sample_stack(stack, rows=5, cols=5, start_with=10, show_every=1):\n",
        "    \"\"\"Función que grafica las imágenes a partir de una matriz de 3 dimensiones\"\"\"\n",
        "    fig,ax = plt.subplots(rows,cols,figsize=[10,10])\n",
        "    for i in range(rows*cols):\n",
        "        ind = start_with + i*show_every\n",
        "        ax[int(i/rows),int(i % rows)].set_title('Corte %d' % ind)\n",
        "        ax[int(i/rows),int(i % rows)].imshow(stack[ind],cmap=plt.cm.gray)\n",
        "        ax[int(i/rows),int(i % rows)].axis('off')\n",
        "    plt.show()\n",
        "    \n",
        "examen = imp.extrac_matrix(imp.load_scan(ruta_examen)) \n",
        "sample_stack(examen, rows=5, cols=5, start_with=20, show_every=1)"
      ],
      "id": "e53b7cd5",
      "execution_count": null,
      "outputs": []
    },
    {
      "cell_type": "markdown",
      "metadata": {
        "id": "d45b85ea"
      },
      "source": [
        "Se puede observar que en todas las imágenes la camilla se encuentra en una posición en específico, para verificar la posición se procederá a tomar solamente una de las imágenes y a recortar la sección correspondiente a la camilla."
      ],
      "id": "d45b85ea"
    },
    {
      "cell_type": "code",
      "metadata": {
        "id": "8233f749"
      },
      "source": [
        "fig, ([ax1, ax2]) = plt.subplots(1,2, figsize=(10,5))\n",
        "ax1.imshow(matriz_pixeles[100:370,70:450], cmap=plt.cm.gray)\n",
        "ax1.set_title('CT recortada la mesa')\n",
        "ax1.axis('off')\n",
        "plt.imshow(matriz_pixeles[370:512,:],cmap=plt.cm.gray)\n",
        "ax2.set_title('Recorte de la Mesa')\n",
        "ax2.axis('off')\n",
        "plt.show()"
      ],
      "id": "8233f749",
      "execution_count": null,
      "outputs": []
    },
    {
      "cell_type": "markdown",
      "metadata": {
        "id": "075f14e1"
      },
      "source": [
        "Se encontró que los píxeles que se encuentran fuera del rango del [x --> 0:370], los píxeles que no corresponden a estos rangos pertenecen a la camilla por lo que a esta zona se le asignará las unidades Hounsfield correspondientes al aire, cuyo valor es de -1024.\n",
        "    "
      ],
      "id": "075f14e1"
    },
    {
      "cell_type": "code",
      "metadata": {
        "id": "23b325ae"
      },
      "source": [
        "rm_matriz_pixeles = imp.remov_cama(examen)\n",
        "rm_matriz_pixeles[370:512,:] = -1024\n",
        "sample_stack(rm_matriz_pixeles, rows=5, cols=5, start_with=20, show_every=1)"
      ],
      "id": "23b325ae",
      "execution_count": null,
      "outputs": []
    },
    {
      "cell_type": "markdown",
      "metadata": {
        "id": "fde39240"
      },
      "source": [
        "Se puede observar que mediante esta modificación se ha eliminado la camilla y se le ha reemplazado por aire."
      ],
      "id": "fde39240"
    },
    {
      "cell_type": "markdown",
      "metadata": {
        "id": "83bfbeb3"
      },
      "source": [
        "### Visualización de una imagen de TC\n",
        "La escala Hounsfield se extiende a largo de 2809 unidades, cuando se procede a realizar la visualización la biblioteca Matplotlib distribuirá la escala Hounsfield para que comprenda todos los valores que abarca la escala de grises, por lo que difícilmente es distinguible cada material dentro de la imagen,  ya que cada tonalidad de gris en la imagen comprende 11 unidades Hounsfield, lo que implica la pérdida de información al momento de la visualización y genera una imagen como la presentada anteriormente. Por lo que para una visualización adecuada se crearon las ventanas. Las ventanas permiten en definitiva extraer la información de la matriz de píxeles mostrando sólamente rangos específicos que comprendan los valores del órgano o tejido que se desee estudiar."
      ],
      "id": "83bfbeb3"
    },
    {
      "cell_type": "markdown",
      "metadata": {
        "id": "6691843f"
      },
      "source": [
        "#### Visualización ventana [-100, 300]  HU \n",
        "\n",
        "Esta ventana es la que más se asemeja al estilo utilizado por el software iQ-LITE 3.0.0."
      ],
      "id": "6691843f"
    },
    {
      "cell_type": "code",
      "metadata": {
        "id": "786cb73b"
      },
      "source": [
        "plt.imshow(matriz_pixeles, cmap=plt.cm.gray, vmin=-100, vmax=300)\n",
        "plt.axis('off')\n",
        "plt.show()"
      ],
      "id": "786cb73b",
      "execution_count": null,
      "outputs": []
    },
    {
      "cell_type": "markdown",
      "metadata": {
        "id": "4b32daa8"
      },
      "source": [
        "#### Visualización ventana [-1000, 1000]  HU \n",
        "\n",
        "Esta ventana  cubre los materiales aire, tejido blando y hueso."
      ],
      "id": "4b32daa8"
    },
    {
      "cell_type": "code",
      "metadata": {
        "id": "e2bcdbd1"
      },
      "source": [
        "plt.imshow(matriz_pixeles, cmap=plt.cm.gray, vmin=-1000, vmax=1000)\n",
        "plt.axis('off')\n",
        "plt.savefig(ruta_salida +'CT_1000.png',bbox_inches='tight', pad_inches = 0)\n",
        "plt.show()"
      ],
      "id": "e2bcdbd1",
      "execution_count": null,
      "outputs": []
    },
    {
      "cell_type": "markdown",
      "metadata": {
        "id": "cc3bb588"
      },
      "source": [
        "#### Visualización ventana [200, 500]  HU \n",
        "\n",
        "Esta ventana muestra el hueso cortical."
      ],
      "id": "cc3bb588"
    },
    {
      "cell_type": "code",
      "metadata": {
        "id": "b5f8b25b"
      },
      "source": [
        "plt.imshow(matriz_pixeles, cmap=plt.cm.gray, vmin=200, vmax=500)\n",
        "plt.axis('off')\n",
        "plt.savefig(ruta_salida +'CT_500.png',bbox_inches='tight', pad_inches = 0)\n",
        "plt.show()"
      ],
      "id": "b5f8b25b",
      "execution_count": null,
      "outputs": []
    },
    {
      "cell_type": "markdown",
      "metadata": {
        "id": "845667dd"
      },
      "source": [
        "## Visualización de un examen completo de CT\n",
        "\n",
        "\n",
        "Para la visualización de las imágenes de TC en diferentes planos anatómicos se implementaron los 4 primeros pasos que se realizaron para el proceso de visualización de una sola imagen, con la diferencia de que para este caso el desarrollo es iterativo y debe ser aplicado para todos y cada uno de los archivos DICOM que pertenecen a la misma serie, por lo que la obtención, transformación y corrección de la matriz de píxeles es llevada a cabo para cada una de las imágenes de un mismo examen.\n",
        "Luego se procede a generar la matriz de 3D que es guardada como un objeto `numpy.ndarray`.\n",
        "\n",
        ">**Nota**: Los procesos iterativos fueron implementados en funciones guardadas en el archivo imprimir_imagen y son importadas a este notebook como `ipm`."
      ],
      "id": "845667dd"
    },
    {
      "cell_type": "code",
      "metadata": {
        "id": "f2374fb8"
      },
      "source": [
        "ruta = 'datos-torax-A/paciente3-A'\n",
        "slices = imp.load_scan(ruta)\n",
        "imagen = imp.extrac_matrix(slices) # se cargan las imágenes \n",
        "imagen =  imp.remov_cama(imagen) # función que remueve la camilla\n",
        "print(f\"La matriz es del tipo de dato {type(imagen)} de la biblioteca numpy de dimensión {imagen.shape}.\")"
      ],
      "id": "f2374fb8",
      "execution_count": null,
      "outputs": []
    },
    {
      "cell_type": "markdown",
      "metadata": {
        "id": "7a679aea"
      },
      "source": [
        "### Escalamiento de Ejes\n",
        "\n",
        "Este paso permite mostrar la imagen de acuerdo a las distancias físicas reales. Se utilizan diferentes atributos de los archivos DICOM, para más información puede visitar el siguiente link [<a href=\"http://dicom.nema.org/medical/dicom/current/output/chtml/part03/sect_C.7.6.2.html\">1,</a> <a href=\"http://dicom.nema.org/dicom/2013/output/chtml/part03/sect_10.7.html\">2,</a>] donde se describe de una manera más detallada el significado y tags de los atributos. A continuación se muestra un esquemático con el significado de algunos de los atributos que se utilizarán.\n",
        "\n",
        "<img src=\"imagenes/space_p.png\">\n",
        "\n",
        "- **Pixel Spacing:** es una lista de 2 valores [Row Spacing, Column Spacing], que especifica la distancia física entre los centros de cada píxel bidimensional de la imagen axial de TC (0028,0030).\n",
        "\n",
        "- **Image Position Patient:** este atributo detalla los valores de coordenadas x, y, z de la esquina superior izquierda (centro del primer vóxel transmitido) de la imagen en mm (0020,0032).\n",
        "- **InstanceNumber:** determina el orden de las imágenes respecto de su adquisición (0020,0013).\n"
      ],
      "id": "7a679aea"
    },
    {
      "cell_type": "code",
      "metadata": {
        "id": "07a5cc87"
      },
      "source": [
        "print('------------------------------------------------------------------------------------------------------')\n",
        "print('PRIMERA IMAGEN DE ACUERDO AL ORDEN DE ADQUISICIÓN')\n",
        "print('PixelSpacing = ', slices[0].PixelSpacing)\n",
        "print('ImagePositionPatient = ', slices[0].ImagePositionPatient)\n",
        "print('InstanceNumber = ', slices[0].InstanceNumber)\n",
        "print('------------------------------------------------------------------------------------------------------')\n",
        "print('SEGUNDA IMAGEN DE ACUERDO AL ORDEN DE ADQUISICIÓN')\n",
        "print('PixelSpacing = ', slices[1].PixelSpacing)\n",
        "print('ImagePositionPatient = ', slices[1].ImagePositionPatient)\n",
        "print('InstanceNumber = ', slices[1].InstanceNumber)\n"
      ],
      "id": "07a5cc87",
      "execution_count": null,
      "outputs": []
    },
    {
      "cell_type": "markdown",
      "metadata": {
        "id": "ca2568d8"
      },
      "source": [
        "Ahora se procede al cálculo de las distancias entre ejes para la  posterior graficación de las imágenes."
      ],
      "id": "ca2568d8"
    },
    {
      "cell_type": "code",
      "metadata": {
        "id": "3d01bf78"
      },
      "source": [
        "ss = slices[0].SliceThickness # se calcula la distancia entre slices\n",
        "ps = slices[0].PixelSpacing # distancia entre píxeles\n",
        "ax_aspect = ps[1]/ps[0] # relación entre los ejes x/y\n",
        "sag_aspect = ss/ps[1] # relación entre los ejes z/y\n",
        "cor_aspect = ss/ps[0] # relación entre los ejes z/x\n",
        "print(f'La distancia entre cortes consecutivos es de: {slices[0].SliceThickness}')\n",
        "print(f'La relación entre los ejes x/y: {ax_aspect}')\n",
        "print(f'La relación entre los ejes z/y: {sag_aspect}')\n",
        "print(f'La relación entre los ejes z/x: {cor_aspect}')\n"
      ],
      "id": "3d01bf78",
      "execution_count": null,
      "outputs": []
    },
    {
      "cell_type": "markdown",
      "metadata": {
        "id": "54b1a528"
      },
      "source": [
        "### Visualización plano Axial\n",
        "\n",
        "Para este plano utilizamos la relación x/y, y utilizamos la función `visualizar_pantalla_mult_ax_fun` que implementamos en el archivo `imprimir_imagen`, que grafica un examen completo de CT en el plano coronal y donde se puede elegir el número  mínimo de filas para la visualización, para más información revisar este archivo, ya que implementa y simplifica todos los procesos anteriores para un examen completo."
      ],
      "id": "54b1a528"
    },
    {
      "cell_type": "code",
      "metadata": {
        "id": "c79fd85f"
      },
      "source": [
        "min_filas = 5\n",
        "nombre_img = ruta_salida + 'mult2.png'\n",
        "imp.visualizar_pantalla_mult_ax_fun(ruta, min_filas, nombre_img, 1000 )"
      ],
      "id": "c79fd85f",
      "execution_count": null,
      "outputs": []
    },
    {
      "cell_type": "code",
      "metadata": {
        "id": "4ec75798"
      },
      "source": [
        "image = PIL.Image.open(nombre_img)\n",
        "width, height = image.size\n",
        "print('La imagen resultante tiene las dimensiones en el eje X = ' ,width,'en el eje y = ' ,height, '.')"
      ],
      "id": "4ec75798",
      "execution_count": null,
      "outputs": []
    },
    {
      "cell_type": "markdown",
      "metadata": {
        "id": "621c69d0"
      },
      "source": [
        "La imagen final es guardada automáticamente por el programa en formato PNG,\n",
        "para el caso estudiado se obtuvo una imagen con un tamaño de\n",
        "7765 × 6040 píxeles que corresponde exactamente a la multiplicación de 512 × 9 y\n",
        "512 × 7, que es la distribución de cada uno de los cortes en la imagen final, por lo\n",
        "que se puede decir que al realizar esta visualización no se ha perdido información."
      ],
      "id": "621c69d0"
    },
    {
      "cell_type": "markdown",
      "metadata": {
        "id": "6731a25b"
      },
      "source": [
        "### Visualización plano Coronal\n",
        "\n",
        "Se procede a graficar una de las imágenes de las 512 que se generan a partir de todos los cortes del examen, para la relación entre los ejes utilizamos la relación z/x."
      ],
      "id": "6731a25b"
    },
    {
      "cell_type": "code",
      "metadata": {
        "id": "5141d79e"
      },
      "source": [
        "a2 = plt.subplot(1, 1, 1)\n",
        "plt.imshow(imagen[:, 240, :],cmap=plt.cm.gray, vmin=-100, vmax=300)\n",
        "a2.set_aspect(cor_aspect)\n",
        "plt.show()"
      ],
      "id": "5141d79e",
      "execution_count": null,
      "outputs": []
    },
    {
      "cell_type": "markdown",
      "metadata": {
        "id": "1504ff07"
      },
      "source": [
        " Aquí utilizamos la función `visualizar_pantalla_mult_cor_fun` del archivo `imprimir_imagen`, que fue diseñada con el fin de graficar automáticamente este plano anatómico.\n"
      ],
      "id": "1504ff07"
    },
    {
      "cell_type": "code",
      "metadata": {
        "id": "09d12772"
      },
      "source": [
        "min_valor = np.min(imagen)\n",
        "max_valor = np.max(imagen)\n",
        "min_filas = 4\n",
        "nombre_img = ruta_salida + 'plano_coronal.png'\n",
        "imp.visualizar_pantalla_mult_cor_fun(ruta, min_filas, nombre_img, 100)"
      ],
      "id": "09d12772",
      "execution_count": null,
      "outputs": []
    },
    {
      "cell_type": "markdown",
      "metadata": {
        "id": "bf807168"
      },
      "source": [
        "### Visualización plano Sagital\n",
        "\n",
        "Se procede a graficar una de las imágenes de las 512 que se generan a partir de todos los cortes del examen para el plano sagital, para la relación entre los ejes utilizamos la relación z/y."
      ],
      "id": "bf807168"
    },
    {
      "cell_type": "code",
      "metadata": {
        "id": "13c7eb53"
      },
      "source": [
        "a2 = plt.subplot(1, 1, 1)\n",
        "plt.imshow(imagen[:,:, 249],cmap=plt.cm.gray, vmin=-100, vmax=300)\n",
        "a2.set_aspect(sag_aspect)\n",
        "plt.show()"
      ],
      "id": "13c7eb53",
      "execution_count": null,
      "outputs": []
    },
    {
      "cell_type": "markdown",
      "metadata": {
        "id": "12e2d15a"
      },
      "source": [
        " Aquí se utiliza la función `visualizar_pantalla_mult_sag_fun` del archivo `imprimir_imagen`, que fue diseñada con el fin de graficar automáticamente este plano anatómico."
      ],
      "id": "12e2d15a"
    },
    {
      "cell_type": "code",
      "metadata": {
        "id": "3cc0d77b"
      },
      "source": [
        "min_filas = 4\n",
        "nombre_img = ruta_salida + 'plano_sagital.png'\n",
        "imp.visualizar_pantalla_mult_sag_fun(ruta,min_filas, nombre_img, 500)"
      ],
      "id": "3cc0d77b",
      "execution_count": null,
      "outputs": []
    },
    {
      "cell_type": "markdown",
      "metadata": {
        "id": "3ae87ed9"
      },
      "source": [
        "[Top of Page](#top)\n",
        "\n",
        "<img style=\"float: right;\" src=\"https://fisica.epn.edu.ec/images/LOGO_fisica-01-01.png\" alt=\"Space Telescope Logo\" width=\"300px\"/> "
      ],
      "id": "3ae87ed9"
    }
  ]
}